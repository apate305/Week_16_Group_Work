{
 "cells": [
  {
   "cell_type": "markdown",
   "id": "7e9e0003",
   "metadata": {},
   "source": [
    "1. Work to improve the model performance for the diabetes decision tree we created in class. You should be able to improve the precision and recall to be above .8 and .7 respectively. You can improve the preprocessing OR alter the model itself."
   ]
  },
  {
   "cell_type": "code",
   "execution_count": 3,
   "id": "f9b6bcca",
   "metadata": {},
   "outputs": [],
   "source": [
    "import pandas as pd\n",
    "from sklearn import tree\n",
    "from sklearn.metrics import classification_report, plot_confusion_matrix\n",
    "import pydotplus\n",
    "\n",
    "from IPython.display import Image"
   ]
  },
  {
   "cell_type": "code",
   "execution_count": 5,
   "id": "3c6cc41f",
   "metadata": {},
   "outputs": [
    {
     "data": {
      "text/html": [
       "<div>\n",
       "<style scoped>\n",
       "    .dataframe tbody tr th:only-of-type {\n",
       "        vertical-align: middle;\n",
       "    }\n",
       "\n",
       "    .dataframe tbody tr th {\n",
       "        vertical-align: top;\n",
       "    }\n",
       "\n",
       "    .dataframe thead th {\n",
       "        text-align: right;\n",
       "    }\n",
       "</style>\n",
       "<table border=\"1\" class=\"dataframe\">\n",
       "  <thead>\n",
       "    <tr style=\"text-align: right;\">\n",
       "      <th></th>\n",
       "      <th>Pregnancies</th>\n",
       "      <th>Glucose</th>\n",
       "      <th>BloodPressure</th>\n",
       "      <th>SkinThickness</th>\n",
       "      <th>Insulin</th>\n",
       "      <th>BMI</th>\n",
       "      <th>DiabetesPedigreeFunction</th>\n",
       "      <th>Age</th>\n",
       "      <th>Outcome</th>\n",
       "    </tr>\n",
       "  </thead>\n",
       "  <tbody>\n",
       "    <tr>\n",
       "      <th>0</th>\n",
       "      <td>6</td>\n",
       "      <td>148</td>\n",
       "      <td>72</td>\n",
       "      <td>35</td>\n",
       "      <td>0</td>\n",
       "      <td>33.6</td>\n",
       "      <td>0.627</td>\n",
       "      <td>50</td>\n",
       "      <td>1</td>\n",
       "    </tr>\n",
       "    <tr>\n",
       "      <th>1</th>\n",
       "      <td>1</td>\n",
       "      <td>85</td>\n",
       "      <td>66</td>\n",
       "      <td>29</td>\n",
       "      <td>0</td>\n",
       "      <td>26.6</td>\n",
       "      <td>0.351</td>\n",
       "      <td>31</td>\n",
       "      <td>0</td>\n",
       "    </tr>\n",
       "    <tr>\n",
       "      <th>2</th>\n",
       "      <td>8</td>\n",
       "      <td>183</td>\n",
       "      <td>64</td>\n",
       "      <td>0</td>\n",
       "      <td>0</td>\n",
       "      <td>23.3</td>\n",
       "      <td>0.672</td>\n",
       "      <td>32</td>\n",
       "      <td>1</td>\n",
       "    </tr>\n",
       "    <tr>\n",
       "      <th>3</th>\n",
       "      <td>1</td>\n",
       "      <td>89</td>\n",
       "      <td>66</td>\n",
       "      <td>23</td>\n",
       "      <td>94</td>\n",
       "      <td>28.1</td>\n",
       "      <td>0.167</td>\n",
       "      <td>21</td>\n",
       "      <td>0</td>\n",
       "    </tr>\n",
       "    <tr>\n",
       "      <th>4</th>\n",
       "      <td>0</td>\n",
       "      <td>137</td>\n",
       "      <td>40</td>\n",
       "      <td>35</td>\n",
       "      <td>168</td>\n",
       "      <td>43.1</td>\n",
       "      <td>2.288</td>\n",
       "      <td>33</td>\n",
       "      <td>1</td>\n",
       "    </tr>\n",
       "  </tbody>\n",
       "</table>\n",
       "</div>"
      ],
      "text/plain": [
       "   Pregnancies  Glucose  BloodPressure  SkinThickness  Insulin   BMI  \\\n",
       "0            6      148             72             35        0  33.6   \n",
       "1            1       85             66             29        0  26.6   \n",
       "2            8      183             64              0        0  23.3   \n",
       "3            1       89             66             23       94  28.1   \n",
       "4            0      137             40             35      168  43.1   \n",
       "\n",
       "   DiabetesPedigreeFunction  Age  Outcome  \n",
       "0                     0.627   50        1  \n",
       "1                     0.351   31        0  \n",
       "2                     0.672   32        1  \n",
       "3                     0.167   21        0  \n",
       "4                     2.288   33        1  "
      ]
     },
     "execution_count": 5,
     "metadata": {},
     "output_type": "execute_result"
    }
   ],
   "source": [
    "diabetes_df = pd.read_csv(\"diabetes copy2.csv\") \n",
    "diabetes_df.head()"
   ]
  },
  {
   "cell_type": "code",
   "execution_count": 10,
   "id": "a0ee47d1",
   "metadata": {},
   "outputs": [],
   "source": [
    "from sklearn.model_selection import train_test_split\n",
    "from sklearn.preprocessing import StandardScaler\n",
    "\n",
    "#split our data into outcome vs. predictors\n",
    "#Predictors\n",
    "X = diabetes_df.drop('Outcome', axis =1)\n",
    "\n",
    "#Outcome\n",
    "y = diabetes_df['Outcome']\n",
    "\n",
    "#split into training vs. testing data\n",
    "X_train, X_test, y_train, y_test = train_test_split(X, y, test_size = 0.3, random_state = 42)\n",
    "\n",
    "#Standardize our data\n",
    "sc = StandardScaler()\n",
    "X_train = sc.fit_transform(X_train)\n",
    "X_test = sc.fit_transform(X_test)\n"
   ]
  },
  {
   "cell_type": "code",
   "execution_count": 12,
   "id": "72d599e3",
   "metadata": {},
   "outputs": [],
   "source": [
    "#Create the decision tree classifier\n",
    "#Max depth will give you 10 levels on your tree\n",
    "model = tree.DecisionTreeClassifier(max_depth= 10, random_state = 42)"
   ]
  },
  {
   "cell_type": "code",
   "execution_count": 13,
   "id": "0ec81b26",
   "metadata": {},
   "outputs": [
    {
     "name": "stdout",
     "output_type": "stream",
     "text": [
      "              precision    recall  f1-score   support\n",
      "\n",
      "           0       0.81      0.72      0.76       151\n",
      "           1       0.56      0.68      0.61        80\n",
      "\n",
      "    accuracy                           0.70       231\n",
      "   macro avg       0.68      0.70      0.68       231\n",
      "weighted avg       0.72      0.70      0.71       231\n",
      "\n"
     ]
    }
   ],
   "source": [
    "#Create our model  by fitting the classifier to our data\n",
    "model = model.fit(X_train, y_train)\n",
    "\n",
    "#find my predicted values\n",
    "y_pred = model.predict(X_test)\n",
    "\n",
    "#Print the classifiication report\n",
    "\n",
    "print(classification_report(y_test, y_pred))"
   ]
  },
  {
   "cell_type": "code",
   "execution_count": 15,
   "id": "00c22fbd",
   "metadata": {},
   "outputs": [],
   "source": [
    "from sklearn.model_selection import RandomizedSearchCV\n",
    "from scipy.stats import randint"
   ]
  },
  {
   "cell_type": "code",
   "execution_count": 29,
   "id": "44d86d24",
   "metadata": {},
   "outputs": [],
   "source": [
    "param_dist = {'max_depth': range(1,15), \n",
    "              'max_features': range(1,9), \n",
    "              'min_samples_leaf': range(1,15),\n",
    "              'criterion': ['gini', 'entropy'],\n",
    "              'splitter': ['best', 'random']}"
   ]
  },
  {
   "cell_type": "code",
   "execution_count": 30,
   "id": "a2419df3",
   "metadata": {},
   "outputs": [
    {
     "name": "stdout",
     "output_type": "stream",
     "text": [
      "Tuned Decision Tree Parameters: {'splitter': 'best', 'min_samples_leaf': 13, 'max_features': 6, 'max_depth': 13, 'criterion': 'gini'}\n",
      "Best score is 0.7672031844929041\n"
     ]
    }
   ],
   "source": [
    "from sklearn import tree\n",
    "\n",
    "trees = tree.DecisionTreeClassifier()\n",
    "\n",
    "tree_cv = RandomizedSearchCV(trees, param_dist, cv=5)\n",
    "\n",
    "tree_cv.fit(X_train, y_train)\n",
    "\n",
    "#Print the tuned parameters and score\n",
    "print( \"Tuned Decision Tree Parameters: {}\".format(tree_cv.best_params_))\n",
    "print('Best score is {}'.format(tree_cv.best_score_))\n"
   ]
  },
  {
   "cell_type": "code",
   "execution_count": 31,
   "id": "958bf5fe",
   "metadata": {},
   "outputs": [],
   "source": [
    "#Create the decision tree classifier \n",
    "#Max depth will give you 10 levels on your tree\n",
    "best_model = tree.DecisionTreeClassifier(criterion= 'gini', max_depth = 11, max_features = 6, \n",
    "                                        min_samples_leaf = 14, splitter = \"best\")"
   ]
  },
  {
   "cell_type": "code",
   "execution_count": 32,
   "id": "1020bbfe",
   "metadata": {},
   "outputs": [
    {
     "name": "stdout",
     "output_type": "stream",
     "text": [
      "              precision    recall  f1-score   support\n",
      "\n",
      "           0       0.86      0.72      0.78       151\n",
      "           1       0.59      0.78      0.67        80\n",
      "\n",
      "    accuracy                           0.74       231\n",
      "   macro avg       0.72      0.75      0.73       231\n",
      "weighted avg       0.76      0.74      0.74       231\n",
      "\n"
     ]
    }
   ],
   "source": [
    "best_model.fit(X_train, y_train)\n",
    "y_pred_best = best_model.predict(X_test)\n",
    "\n",
    "#Print the classifiication report\n",
    "\n",
    "print(classification_report(y_test, y_pred_best))"
   ]
  },
  {
   "cell_type": "markdown",
   "id": "19038945",
   "metadata": {},
   "source": [
    "2. Create a function that accepts an array of names and returns a string formatted as a list of names separated by commas EXCEPT for the last two names, which are separated by an ampersand (and sign - &)\n",
    "\n",
    "\n",
    "\n",
    "Example input:\n",
    "\n",
    "    [ {'name': 'Nichole'}, {'name': 'Tanisha'}, {'name': 'Maggie'} ] \n",
    "\n",
    "\n",
    "Example output:\n",
    "\n",
    "    Nichole, Tanisha & Maggie"
   ]
  },
  {
   "cell_type": "code",
   "execution_count": 2,
   "id": "8378c751",
   "metadata": {},
   "outputs": [
    {
     "name": "stdout",
     "output_type": "stream",
     "text": [
      "Nichole\n",
      "Tanisha\n",
      "Maggie\n"
     ]
    }
   ],
   "source": [
    "#def array_to_string (array):\n",
    "A = [ {'name': 'Nichole'}, {'name': 'Tanisha'}, {'name': 'Maggie'} ] \n",
    "for D in A:\n",
    "    for key in D:\n",
    "        string = str(D[key])\n",
    "        print(string)  \n",
    "    \n",
    "    \n",
    "#dict() for i in range(4)\n",
    "\n",
    "#str1 = \" \" \n",
    "    \n",
    "    # return string  \n",
    "    #return (str1.join(s))"
   ]
  },
  {
   "cell_type": "code",
   "execution_count": 51,
   "id": "0c045d88",
   "metadata": {},
   "outputs": [],
   "source": [
    "#A = [ {'name': 'Nichole'}, {'name': 'Tanisha'}, {'name': 'Maggie'} ] \n",
    "\n",
    "def array_to_string (A):\n",
    "    str1 = \" \"\n",
    "    for D in A:\n",
    "        for key in D:\n",
    "            res = [D[key] for D in A] \n",
    "            str1 = ', '.join(res)\n",
    "            \n",
    "    print(str1)\n",
    "    \n"
   ]
  },
  {
   "cell_type": "code",
   "execution_count": 52,
   "id": "e1cf0bc6",
   "metadata": {},
   "outputs": [
    {
     "name": "stdout",
     "output_type": "stream",
     "text": [
      "Nichole, Tanisha, Maggie\n"
     ]
    }
   ],
   "source": [
    "B = [ {'name': 'Nichole'}, {'name': 'Tanisha'}, {'name': 'Maggie'} ] \n",
    "\n",
    "array_to_string (B)"
   ]
  },
  {
   "cell_type": "code",
   "execution_count": 116,
   "id": "959ec57f",
   "metadata": {},
   "outputs": [],
   "source": [
    "\n",
    "#str1 = \" \"\n",
    "#space = \" \"\n",
    "#for key in D: #for each key in each dictionary..\n",
    "    #lst = [ V[key] for V in A ] #store each value ('V') in lst\n",
    "    \n",
    "    # add neccesary commas to join on\n",
    "    #for i in range(0, len(lst) - 10):\n",
    "    \n",
    "    #if lst[i] is not (lst[-2] or lst[-1]):\n",
    "        #str2 = lst[i]+ ', '\n",
    "        #print(str2)\n",
    "        \n",
    "     \n",
    "    \n",
    "    #string_names += ' & ' + names[-1]['name']"
   ]
  },
  {
   "cell_type": "code",
   "execution_count": null,
   "id": "36a80147",
   "metadata": {},
   "outputs": [],
   "source": [
    "#from operator import itemgetter\n",
    "#res = list(map(itemgetter('name'), A))"
   ]
  },
  {
   "cell_type": "code",
   "execution_count": null,
   "id": "855bb203",
   "metadata": {},
   "outputs": [],
   "source": []
  }
 ],
 "metadata": {
  "kernelspec": {
   "display_name": "Python 3 (ipykernel)",
   "language": "python",
   "name": "python3"
  },
  "language_info": {
   "codemirror_mode": {
    "name": "ipython",
    "version": 3
   },
   "file_extension": ".py",
   "mimetype": "text/x-python",
   "name": "python",
   "nbconvert_exporter": "python",
   "pygments_lexer": "ipython3",
   "version": "3.9.7"
  }
 },
 "nbformat": 4,
 "nbformat_minor": 5
}
